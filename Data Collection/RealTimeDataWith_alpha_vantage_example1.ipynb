{
 "cells": [
  {
   "cell_type": "code",
   "execution_count": 1,
   "metadata": {},
   "outputs": [],
   "source": [
    "import os\n",
    "from alpha_vantage.timeseries import TimeSeries\n",
    "\n",
    "API_KEY = os.getenv(\"alphavantage_apikey\")"
   ]
  },
  {
   "cell_type": "code",
   "execution_count": 2,
   "metadata": {},
   "outputs": [
    {
     "name": "stdout",
     "output_type": "stream",
     "text": [
      "<class 'alpha_vantage.timeseries.TimeSeries'>\n"
     ]
    },
    {
     "data": {
      "text/plain": [
       "<alpha_vantage.timeseries.TimeSeries at 0x14152b37e48>"
      ]
     },
     "execution_count": 2,
     "metadata": {},
     "output_type": "execute_result"
    }
   ],
   "source": [
    "ts = TimeSeries(key=API_KEY,output_format='pandas')\n",
    "print(type(ts))\n",
    "ts"
   ]
  },
  {
   "cell_type": "code",
   "execution_count": 3,
   "metadata": {},
   "outputs": [],
   "source": [
    "data, meta_data = ts.get_intraday('MSFT')"
   ]
  },
  {
   "cell_type": "code",
   "execution_count": 4,
   "metadata": {},
   "outputs": [
    {
     "name": "stdout",
     "output_type": "stream",
     "text": [
      "(100, 5)\n"
     ]
    },
    {
     "data": {
      "text/html": [
       "<div>\n",
       "<style scoped>\n",
       "    .dataframe tbody tr th:only-of-type {\n",
       "        vertical-align: middle;\n",
       "    }\n",
       "\n",
       "    .dataframe tbody tr th {\n",
       "        vertical-align: top;\n",
       "    }\n",
       "\n",
       "    .dataframe thead th {\n",
       "        text-align: right;\n",
       "    }\n",
       "</style>\n",
       "<table border=\"1\" class=\"dataframe\">\n",
       "  <thead>\n",
       "    <tr style=\"text-align: right;\">\n",
       "      <th></th>\n",
       "      <th>1. open</th>\n",
       "      <th>2. high</th>\n",
       "      <th>3. low</th>\n",
       "      <th>4. close</th>\n",
       "      <th>5. volume</th>\n",
       "    </tr>\n",
       "    <tr>\n",
       "      <th>date</th>\n",
       "      <th></th>\n",
       "      <th></th>\n",
       "      <th></th>\n",
       "      <th></th>\n",
       "      <th></th>\n",
       "    </tr>\n",
       "  </thead>\n",
       "  <tbody>\n",
       "    <tr>\n",
       "      <th>2020-06-17 16:00:00</th>\n",
       "      <td>194.3400</td>\n",
       "      <td>194.88</td>\n",
       "      <td>193.800</td>\n",
       "      <td>194.21</td>\n",
       "      <td>1616277.0</td>\n",
       "    </tr>\n",
       "    <tr>\n",
       "      <th>2020-06-17 15:45:00</th>\n",
       "      <td>194.4200</td>\n",
       "      <td>194.91</td>\n",
       "      <td>194.100</td>\n",
       "      <td>194.31</td>\n",
       "      <td>822040.0</td>\n",
       "    </tr>\n",
       "    <tr>\n",
       "      <th>2020-06-17 15:30:00</th>\n",
       "      <td>194.9300</td>\n",
       "      <td>195.15</td>\n",
       "      <td>194.095</td>\n",
       "      <td>194.40</td>\n",
       "      <td>765074.0</td>\n",
       "    </tr>\n",
       "    <tr>\n",
       "      <th>2020-06-17 15:15:00</th>\n",
       "      <td>195.1545</td>\n",
       "      <td>195.29</td>\n",
       "      <td>194.760</td>\n",
       "      <td>194.91</td>\n",
       "      <td>641675.0</td>\n",
       "    </tr>\n",
       "    <tr>\n",
       "      <th>2020-06-17 15:00:00</th>\n",
       "      <td>195.8700</td>\n",
       "      <td>195.92</td>\n",
       "      <td>195.160</td>\n",
       "      <td>195.18</td>\n",
       "      <td>574181.0</td>\n",
       "    </tr>\n",
       "  </tbody>\n",
       "</table>\n",
       "</div>"
      ],
      "text/plain": [
       "                      1. open  2. high   3. low  4. close  5. volume\n",
       "date                                                                \n",
       "2020-06-17 16:00:00  194.3400   194.88  193.800    194.21  1616277.0\n",
       "2020-06-17 15:45:00  194.4200   194.91  194.100    194.31   822040.0\n",
       "2020-06-17 15:30:00  194.9300   195.15  194.095    194.40   765074.0\n",
       "2020-06-17 15:15:00  195.1545   195.29  194.760    194.91   641675.0\n",
       "2020-06-17 15:00:00  195.8700   195.92  195.160    195.18   574181.0"
      ]
     },
     "execution_count": 4,
     "metadata": {},
     "output_type": "execute_result"
    }
   ],
   "source": [
    "print(data.shape)\n",
    "data.head()"
   ]
  },
  {
   "cell_type": "code",
   "execution_count": 5,
   "metadata": {},
   "outputs": [
    {
     "data": {
      "text/plain": [
       "{'1. Information': 'Intraday (15min) open, high, low, close prices and volume',\n",
       " '2. Symbol': 'MSFT',\n",
       " '3. Last Refreshed': '2020-06-17 16:00:00',\n",
       " '4. Interval': '15min',\n",
       " '5. Output Size': 'Compact',\n",
       " '6. Time Zone': 'US/Eastern'}"
      ]
     },
     "execution_count": 5,
     "metadata": {},
     "output_type": "execute_result"
    }
   ],
   "source": [
    "meta_data"
   ]
  },
  {
   "cell_type": "code",
   "execution_count": null,
   "metadata": {},
   "outputs": [],
   "source": []
  }
 ],
 "metadata": {
  "kernelspec": {
   "display_name": "Python 3",
   "language": "python",
   "name": "python3"
  },
  "language_info": {
   "codemirror_mode": {
    "name": "ipython",
    "version": 3
   },
   "file_extension": ".py",
   "mimetype": "text/x-python",
   "name": "python",
   "nbconvert_exporter": "python",
   "pygments_lexer": "ipython3",
   "version": "3.7.5"
  }
 },
 "nbformat": 4,
 "nbformat_minor": 2
}
