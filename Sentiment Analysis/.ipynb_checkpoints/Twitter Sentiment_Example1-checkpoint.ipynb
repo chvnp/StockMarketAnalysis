{
 "cells": [
  {
   "cell_type": "code",
   "execution_count": 1,
   "metadata": {},
   "outputs": [],
   "source": [
    "import os\n",
    "\n",
    "import tweepy\n",
    "from textblob import TextBlob"
   ]
  },
  {
   "cell_type": "code",
   "execution_count": 2,
   "metadata": {},
   "outputs": [],
   "source": [
    "# Twitter app credentials loading from envirnmental variables\n",
    "_CONSUMER_KEY = os.getenv('TWITTER_CONSUMER_KEY')\n",
    "_CONSUMER_SECRET = os.getenv('TWITTER_CONSUMER_KEY_SECRET')\n",
    "_ACCESS_TOKEN = os.getenv('TWITTER_ACCESS_TOKEN')\n",
    "_ACCESS_TOKEN_SECRET = os.getenv('TWITTER_ACCESS_TOKEN_SECRET')"
   ]
  },
  {
   "cell_type": "code",
   "execution_count": 3,
   "metadata": {},
   "outputs": [],
   "source": [
    "# keyword to query\n",
    "keyword = \"$SPX\""
   ]
  },
  {
   "cell_type": "code",
   "execution_count": 4,
   "metadata": {},
   "outputs": [],
   "source": [
    "# twitter authentication\n",
    "oauth = tweepy.OAuthHandler(_CONSUMER_KEY, _CONSUMER_SECRET)\n",
    "oauth.set_access_token(_ACCESS_TOKEN, _ACCESS_TOKEN_SECRET)\n",
    "twitter_api = tweepy.API(oauth)\n",
    "\n",
    "# get latest 100 tweets containing the phrase $SPX\n",
    "tweets = twitter_api.search(keyword, count=1000)"
   ]
  },
  {
   "cell_type": "code",
   "execution_count": 11,
   "metadata": {},
   "outputs": [
    {
     "name": "stdout",
     "output_type": "stream",
     "text": [
      "100\n"
     ]
    },
    {
     "data": {
      "text/plain": [
       "Status(_api=<tweepy.api.API object at 0x000001D2FF9739C8>, _json={'created_at': 'Wed Jun 10 19:58:53 +0000 2020', 'id': 1270807669096366080, 'id_str': '1270807669096366080', 'text': 'Opens the door to 2854 and then 2720\\n\\nBelow 2720 and $spx is donezo', 'truncated': False, 'entities': {'hashtags': [], 'symbols': [{'text': 'spx', 'indices': [53, 57]}], 'user_mentions': [], 'urls': []}, 'metadata': {'iso_language_code': 'en', 'result_type': 'recent'}, 'source': '<a href=\"http://twitter.com/download/iphone\" rel=\"nofollow\">Twitter for iPhone</a>', 'in_reply_to_status_id': 1270807313868140545, 'in_reply_to_status_id_str': '1270807313868140545', 'in_reply_to_user_id': 934937333555609600, 'in_reply_to_user_id_str': '934937333555609600', 'in_reply_to_screen_name': 'CVM_PATENTIA', 'user': {'id': 934937333555609600, 'id_str': '934937333555609600', 'name': '🕊', 'screen_name': 'CVM_PATENTIA', 'location': '', 'description': '', 'url': None, 'entities': {'description': {'urls': []}}, 'protected': False, 'followers_count': 73, 'friends_count': 456, 'listed_count': 1, 'created_at': 'Mon Nov 27 00:10:05 +0000 2017', 'favourites_count': 853, 'utc_offset': None, 'time_zone': None, 'geo_enabled': False, 'verified': False, 'statuses_count': 40, 'lang': None, 'contributors_enabled': False, 'is_translator': False, 'is_translation_enabled': False, 'profile_background_color': 'F5F8FA', 'profile_background_image_url': None, 'profile_background_image_url_https': None, 'profile_background_tile': False, 'profile_image_url': 'http://pbs.twimg.com/profile_images/1251999432368783360/19c4phLV_normal.jpg', 'profile_image_url_https': 'https://pbs.twimg.com/profile_images/1251999432368783360/19c4phLV_normal.jpg', 'profile_banner_url': 'https://pbs.twimg.com/profile_banners/934937333555609600/1586719464', 'profile_link_color': '1DA1F2', 'profile_sidebar_border_color': 'C0DEED', 'profile_sidebar_fill_color': 'DDEEF6', 'profile_text_color': '333333', 'profile_use_background_image': True, 'has_extended_profile': False, 'default_profile': True, 'default_profile_image': False, 'following': False, 'follow_request_sent': False, 'notifications': False, 'translator_type': 'none'}, 'geo': None, 'coordinates': None, 'place': None, 'contributors': None, 'is_quote_status': False, 'retweet_count': 0, 'favorite_count': 0, 'favorited': False, 'retweeted': False, 'lang': 'en'}, created_at=datetime.datetime(2020, 6, 10, 19, 58, 53), id=1270807669096366080, id_str='1270807669096366080', text='Opens the door to 2854 and then 2720\\n\\nBelow 2720 and $spx is donezo', truncated=False, entities={'hashtags': [], 'symbols': [{'text': 'spx', 'indices': [53, 57]}], 'user_mentions': [], 'urls': []}, metadata={'iso_language_code': 'en', 'result_type': 'recent'}, source='Twitter for iPhone', source_url='http://twitter.com/download/iphone', in_reply_to_status_id=1270807313868140545, in_reply_to_status_id_str='1270807313868140545', in_reply_to_user_id=934937333555609600, in_reply_to_user_id_str='934937333555609600', in_reply_to_screen_name='CVM_PATENTIA', author=User(_api=<tweepy.api.API object at 0x000001D2FF9739C8>, _json={'id': 934937333555609600, 'id_str': '934937333555609600', 'name': '🕊', 'screen_name': 'CVM_PATENTIA', 'location': '', 'description': '', 'url': None, 'entities': {'description': {'urls': []}}, 'protected': False, 'followers_count': 73, 'friends_count': 456, 'listed_count': 1, 'created_at': 'Mon Nov 27 00:10:05 +0000 2017', 'favourites_count': 853, 'utc_offset': None, 'time_zone': None, 'geo_enabled': False, 'verified': False, 'statuses_count': 40, 'lang': None, 'contributors_enabled': False, 'is_translator': False, 'is_translation_enabled': False, 'profile_background_color': 'F5F8FA', 'profile_background_image_url': None, 'profile_background_image_url_https': None, 'profile_background_tile': False, 'profile_image_url': 'http://pbs.twimg.com/profile_images/1251999432368783360/19c4phLV_normal.jpg', 'profile_image_url_https': 'https://pbs.twimg.com/profile_images/1251999432368783360/19c4phLV_normal.jpg', 'profile_banner_url': 'https://pbs.twimg.com/profile_banners/934937333555609600/1586719464', 'profile_link_color': '1DA1F2', 'profile_sidebar_border_color': 'C0DEED', 'profile_sidebar_fill_color': 'DDEEF6', 'profile_text_color': '333333', 'profile_use_background_image': True, 'has_extended_profile': False, 'default_profile': True, 'default_profile_image': False, 'following': False, 'follow_request_sent': False, 'notifications': False, 'translator_type': 'none'}, id=934937333555609600, id_str='934937333555609600', name='🕊', screen_name='CVM_PATENTIA', location='', description='', url=None, entities={'description': {'urls': []}}, protected=False, followers_count=73, friends_count=456, listed_count=1, created_at=datetime.datetime(2017, 11, 27, 0, 10, 5), favourites_count=853, utc_offset=None, time_zone=None, geo_enabled=False, verified=False, statuses_count=40, lang=None, contributors_enabled=False, is_translator=False, is_translation_enabled=False, profile_background_color='F5F8FA', profile_background_image_url=None, profile_background_image_url_https=None, profile_background_tile=False, profile_image_url='http://pbs.twimg.com/profile_images/1251999432368783360/19c4phLV_normal.jpg', profile_image_url_https='https://pbs.twimg.com/profile_images/1251999432368783360/19c4phLV_normal.jpg', profile_banner_url='https://pbs.twimg.com/profile_banners/934937333555609600/1586719464', profile_link_color='1DA1F2', profile_sidebar_border_color='C0DEED', profile_sidebar_fill_color='DDEEF6', profile_text_color='333333', profile_use_background_image=True, has_extended_profile=False, default_profile=True, default_profile_image=False, following=False, follow_request_sent=False, notifications=False, translator_type='none'), user=User(_api=<tweepy.api.API object at 0x000001D2FF9739C8>, _json={'id': 934937333555609600, 'id_str': '934937333555609600', 'name': '🕊', 'screen_name': 'CVM_PATENTIA', 'location': '', 'description': '', 'url': None, 'entities': {'description': {'urls': []}}, 'protected': False, 'followers_count': 73, 'friends_count': 456, 'listed_count': 1, 'created_at': 'Mon Nov 27 00:10:05 +0000 2017', 'favourites_count': 853, 'utc_offset': None, 'time_zone': None, 'geo_enabled': False, 'verified': False, 'statuses_count': 40, 'lang': None, 'contributors_enabled': False, 'is_translator': False, 'is_translation_enabled': False, 'profile_background_color': 'F5F8FA', 'profile_background_image_url': None, 'profile_background_image_url_https': None, 'profile_background_tile': False, 'profile_image_url': 'http://pbs.twimg.com/profile_images/1251999432368783360/19c4phLV_normal.jpg', 'profile_image_url_https': 'https://pbs.twimg.com/profile_images/1251999432368783360/19c4phLV_normal.jpg', 'profile_banner_url': 'https://pbs.twimg.com/profile_banners/934937333555609600/1586719464', 'profile_link_color': '1DA1F2', 'profile_sidebar_border_color': 'C0DEED', 'profile_sidebar_fill_color': 'DDEEF6', 'profile_text_color': '333333', 'profile_use_background_image': True, 'has_extended_profile': False, 'default_profile': True, 'default_profile_image': False, 'following': False, 'follow_request_sent': False, 'notifications': False, 'translator_type': 'none'}, id=934937333555609600, id_str='934937333555609600', name='🕊', screen_name='CVM_PATENTIA', location='', description='', url=None, entities={'description': {'urls': []}}, protected=False, followers_count=73, friends_count=456, listed_count=1, created_at=datetime.datetime(2017, 11, 27, 0, 10, 5), favourites_count=853, utc_offset=None, time_zone=None, geo_enabled=False, verified=False, statuses_count=40, lang=None, contributors_enabled=False, is_translator=False, is_translation_enabled=False, profile_background_color='F5F8FA', profile_background_image_url=None, profile_background_image_url_https=None, profile_background_tile=False, profile_image_url='http://pbs.twimg.com/profile_images/1251999432368783360/19c4phLV_normal.jpg', profile_image_url_https='https://pbs.twimg.com/profile_images/1251999432368783360/19c4phLV_normal.jpg', profile_banner_url='https://pbs.twimg.com/profile_banners/934937333555609600/1586719464', profile_link_color='1DA1F2', profile_sidebar_border_color='C0DEED', profile_sidebar_fill_color='DDEEF6', profile_text_color='333333', profile_use_background_image=True, has_extended_profile=False, default_profile=True, default_profile_image=False, following=False, follow_request_sent=False, notifications=False, translator_type='none'), geo=None, coordinates=None, place=None, contributors=None, is_quote_status=False, retweet_count=0, favorite_count=0, favorited=False, retweeted=False, lang='en')"
      ]
     },
     "execution_count": 11,
     "metadata": {},
     "output_type": "execute_result"
    }
   ],
   "source": [
    "print(len(tweets))\n",
    "tweets[0]"
   ]
  },
  {
   "cell_type": "code",
   "execution_count": null,
   "metadata": {},
   "outputs": [],
   "source": []
  },
  {
   "cell_type": "code",
   "execution_count": 6,
   "metadata": {},
   "outputs": [],
   "source": [
    "# parse sentiment\n",
    "valid = 0 # counter for tweets with a determined sentiment\n",
    "positive = 0 # counter for positive tweets\n",
    "\n",
    "for tweet in tweets:\n",
    "    text = TextBlob(tweet.text).sentiment\n",
    "    if text.subjectivity != 0:\n",
    "        valid += 1\n",
    "        positive += (text.polarity > 0)"
   ]
  },
  {
   "cell_type": "code",
   "execution_count": 7,
   "metadata": {},
   "outputs": [
    {
     "name": "stdout",
     "output_type": "stream",
     "text": [
      "57\n",
      "35\n"
     ]
    }
   ],
   "source": [
    "print(valid)\n",
    "print(positive)"
   ]
  },
  {
   "cell_type": "code",
   "execution_count": 8,
   "metadata": {},
   "outputs": [],
   "source": [
    "# sentiment ratio\n",
    "sentiment = positive / valid"
   ]
  },
  {
   "cell_type": "code",
   "execution_count": 9,
   "metadata": {},
   "outputs": [
    {
     "name": "stdout",
     "output_type": "stream",
     "text": [
      "Sentiment for $SPX is 61.40%\n"
     ]
    }
   ],
   "source": [
    "# construct tweet\n",
    "tweet = \"Sentiment for %s is %.2f%%\" % (keyword, (sentiment * 100))\n",
    "\n",
    "# to actually tweet, uncomment this line:\n",
    "# twitter_api.update_status(status=tweet)\n",
    "\n",
    "# for now, just print out the tweet\n",
    "print(tweet)"
   ]
  },
  {
   "cell_type": "code",
   "execution_count": null,
   "metadata": {},
   "outputs": [],
   "source": []
  }
 ],
 "metadata": {
  "kernelspec": {
   "display_name": "Python 3",
   "language": "python",
   "name": "python3"
  },
  "language_info": {
   "codemirror_mode": {
    "name": "ipython",
    "version": 3
   },
   "file_extension": ".py",
   "mimetype": "text/x-python",
   "name": "python",
   "nbconvert_exporter": "python",
   "pygments_lexer": "ipython3",
   "version": "3.7.5"
  }
 },
 "nbformat": 4,
 "nbformat_minor": 2
}
